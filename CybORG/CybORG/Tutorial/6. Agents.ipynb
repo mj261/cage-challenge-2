{
 "cells": [
  {
   "cell_type": "markdown",
   "metadata": {},
   "source": [
    "### Red Agents\n",
    "\n",
    "##### Matthew Jones"
   ]
  },
  {
   "cell_type": "markdown",
   "metadata": {},
   "source": [
    "Scenario 1b has two rules-based Red Agents. The first is our good friend the B_lineAgent. This represents an actor who has inside information, so is able to beeline straight towards the OpServer."
   ]
  },
  {
   "cell_type": "code",
   "execution_count": 1,
   "metadata": {},
   "outputs": [
    {
     "name": "stdout",
     "output_type": "stream",
     "text": [
      "DiscoverRemoteSystems 10.0.184.240/28\n",
      "DiscoverNetworkServices 10.0.184.252\n",
      "ExploitRemoteService 10.0.184.252\n",
      "PrivilegeEscalate User2\n",
      "DiscoverNetworkServices 10.0.50.154\n",
      "ExploitRemoteService 10.0.50.154\n",
      "ExploitRemoteService 10.0.184.252\n",
      "PrivilegeEscalate User2\n",
      "DiscoverNetworkServices 10.0.50.154\n",
      "ExploitRemoteService 10.0.50.154\n",
      "PrivilegeEscalate Enterprise1\n",
      "DiscoverRemoteSystems 10.0.50.144/28\n",
      "DiscoverNetworkServices 10.0.50.147\n",
      "ExploitRemoteService 10.0.50.147\n",
      "PrivilegeEscalate Enterprise2\n",
      "DiscoverNetworkServices 10.0.153.178\n"
     ]
    }
   ],
   "source": [
    "import inspect\n",
    "from pprint import pprint\n",
    "from CybORG import CybORG\n",
    "from CybORG.Agents import *\n",
    "from CybORG.Shared.Actions import *\n",
    "\n",
    "path = str(inspect.getfile(CybORG))\n",
    "path = path[:-10] + '/Shared/Scenarios/Scenario2.yaml'\n",
    "\n",
    "env = CybORG(path,'sim')\n",
    "\n",
    "agent = B_lineAgent()\n",
    "\n",
    "results = env.reset('Red')\n",
    "obs = results.observation\n",
    "action_space = results.action_space\n",
    "\n",
    "for i in range(16):\n",
    "    action = agent.get_action(obs,action_space)\n",
    "    results = env.step(action=action,agent='Red')\n",
    "    obs = results.observation\n",
    "    \n",
    "    print(action)"
   ]
  },
  {
   "cell_type": "markdown",
   "metadata": {},
   "source": [
    "This agent runs along a predetermined path to the Op_Server, but is smart enough able to recover its position if interrupted. We can see below after Blue Team restores some hosts, the agent works out where the error in and re-exploits its way to the Op_Server."
   ]
  },
  {
   "cell_type": "code",
   "execution_count": 2,
   "metadata": {},
   "outputs": [
    {
     "name": "stdout",
     "output_type": "stream",
     "text": [
      "ExploitRemoteService 10.0.153.178\n",
      "Success: FALSE\n",
      "ExploitRemoteService 10.0.50.147\n",
      "Success: TRUE\n",
      "PrivilegeEscalate Enterprise2\n",
      "Success: TRUE\n",
      "DiscoverNetworkServices 10.0.153.178\n",
      "Success: TRUE\n",
      "ExploitRemoteService 10.0.153.178\n",
      "Success: TRUE\n",
      "PrivilegeEscalate Op_Server0\n",
      "Success: TRUE\n",
      "Impact Op_Server0\n",
      "Success: TRUE\n",
      "Impact Op_Server0\n",
      "Success: TRUE\n",
      "Impact Op_Server0\n",
      "Success: TRUE\n",
      "Impact Op_Server0\n",
      "Success: TRUE\n",
      "Impact Op_Server0\n",
      "Success: TRUE\n",
      "Impact Op_Server0\n",
      "Success: TRUE\n"
     ]
    }
   ],
   "source": [
    "action = Restore(hostname='Op_Server0',session=0,agent='Blue')\n",
    "env.step(action=action,agent='Blue')\n",
    "\n",
    "action = Restore(hostname='Enterprise2',session=0,agent='Blue')\n",
    "env.step(action=action,agent='Blue')\n",
    "\n",
    "action = Restore(hostname='Enterprise1',session=0,agent='Blue')\n",
    "env.step(action=action,agent='Blue')\n",
    "\n",
    "for i in range(12):\n",
    "    action = agent.get_action(obs,action_space)\n",
    "    results = env.step(action=action,agent='Red')\n",
    "    obs = results.observation\n",
    "            \n",
    "    print(action)\n",
    "    print('Success:',obs['success'])"
   ]
  },
  {
   "cell_type": "markdown",
   "metadata": {},
   "source": [
    "The other red agent is the MeanderAgent. This performs a breadth first search on all known hosts, scanning each one in turn, before attempting a mix of exploit and privilege escalate on the rest. This is an extremely slow agent in contrast to the laser-focussed B_lineAgent."
   ]
  },
  {
   "cell_type": "code",
   "execution_count": 3,
   "metadata": {},
   "outputs": [
    {
     "name": "stdout",
     "output_type": "stream",
     "text": [
      "DiscoverRemoteSystems 10.0.212.208/28\n",
      "DiscoverNetworkServices 10.0.212.216\n",
      "DiscoverNetworkServices 10.0.212.211\n",
      "DiscoverNetworkServices 10.0.212.222\n",
      "DiscoverNetworkServices 10.0.212.217\n",
      "DiscoverNetworkServices 10.0.212.220\n",
      "PrivilegeEscalate User0\n",
      "ExploitRemoteService 10.0.212.211\n",
      "PrivilegeEscalate User1\n",
      "DiscoverNetworkServices 10.0.219.100\n",
      "ExploitRemoteService 10.0.219.100\n",
      "PrivilegeEscalate Enterprise1\n",
      "DiscoverRemoteSystems 10.0.219.96/28\n",
      "DiscoverNetworkServices 10.0.219.103\n",
      "DiscoverNetworkServices 10.0.219.99\n",
      "DiscoverNetworkServices 10.0.219.107\n",
      "ExploitRemoteService 10.0.219.107\n",
      "PrivilegeEscalate Enterprise2\n",
      "DiscoverNetworkServices 10.0.135.249\n",
      "ExploitRemoteService 10.0.212.220\n",
      "ExploitRemoteService 10.0.219.103\n",
      "ExploitRemoteService 10.0.219.107\n",
      "PrivilegeEscalate Enterprise2\n",
      "ExploitRemoteService 10.0.219.100\n",
      "PrivilegeEscalate Enterprise1\n",
      "ExploitRemoteService 10.0.219.99\n",
      "PrivilegeEscalate Enterprise0\n",
      "ExploitRemoteService 10.0.212.216\n",
      "PrivilegeEscalate User3\n",
      "ExploitRemoteService 10.0.135.249\n",
      "PrivilegeEscalate Op_Server0\n",
      "Impact Op_Server0\n",
      "Impact Op_Server0\n",
      "Impact Op_Server0\n",
      "Impact Op_Server0\n",
      "Impact Op_Server0\n",
      "Impact Op_Server0\n",
      "Impact Op_Server0\n",
      "Impact Op_Server0\n",
      "Impact Op_Server0\n",
      "Impact Op_Server0\n",
      "Impact Op_Server0\n",
      "Impact Op_Server0\n",
      "Impact Op_Server0\n",
      "Impact Op_Server0\n",
      "Impact Op_Server0\n"
     ]
    }
   ],
   "source": [
    "agent = RedMeanderAgent()\n",
    "\n",
    "results = env.reset('Red')\n",
    "obs = results.observation\n",
    "action_space = results.action_space\n",
    "\n",
    "for i in range(46):\n",
    "    action = agent.get_action(obs,action_space)\n",
    "    results = env.step(action=action,agent='Red')\n",
    "    obs = results.observation\n",
    "    \n",
    "    print(action)"
   ]
  },
  {
   "cell_type": "markdown",
   "metadata": {},
   "source": [
    "The Meander Agent is also able to recover from Blue's disruption."
   ]
  },
  {
   "cell_type": "code",
   "execution_count": 4,
   "metadata": {},
   "outputs": [
    {
     "name": "stdout",
     "output_type": "stream",
     "text": [
      "Impact Op_Server0\n",
      "DiscoverRemoteSystems 10.0.135.240/28\n",
      "ExploitRemoteService 10.0.212.217\n",
      "PrivilegeEscalate User4\n",
      "ExploitRemoteService 10.0.219.103\n",
      "ExploitRemoteService 10.0.219.107\n",
      "PrivilegeEscalate Enterprise2\n",
      "ExploitRemoteService 10.0.212.222\n",
      "PrivilegeEscalate User2\n",
      "ExploitRemoteService 10.0.135.249\n",
      "PrivilegeEscalate Op_Server0\n",
      "Impact Op_Server0\n",
      "Impact Op_Server0\n",
      "Impact Op_Server0\n",
      "Impact Op_Server0\n",
      "Impact Op_Server0\n",
      "Impact Op_Server0\n",
      "Impact Op_Server0\n",
      "Impact Op_Server0\n",
      "Impact Op_Server0\n",
      "Impact Op_Server0\n",
      "Impact Op_Server0\n",
      "Impact Op_Server0\n",
      "Impact Op_Server0\n"
     ]
    }
   ],
   "source": [
    "action = Restore(hostname='Op_Server0',session=0,agent='Blue')\n",
    "env.step(action=action,agent='Blue')\n",
    "\n",
    "action = Restore(hostname='Enterprise2',session=0,agent='Blue')\n",
    "env.step(action=action,agent='Blue')\n",
    "\n",
    "action = Restore(hostname='Enterprise1',session=0,agent='Blue')\n",
    "env.step(action=action,agent='Blue')\n",
    "\n",
    "action = Restore(hostname='Enterprise0',session=0,agent='Blue')\n",
    "env.step(action=action,agent='Blue')\n",
    "\n",
    "for i in range(24):\n",
    "    action = agent.get_action(obs,action_space)\n",
    "    results = env.step(action=action,agent='Red')\n",
    "    obs = results.observation\n",
    "    print(env.get_last_action('Red'))"
   ]
  },
  {
   "cell_type": "markdown",
   "metadata": {},
   "source": [
    "### Blue Agents"
   ]
  },
  {
   "cell_type": "markdown",
   "metadata": {},
   "source": [
    "The BlueReactRemoveAgent will wait until it sees suspicious activity, before using remove on all the hosts it has flagged. However, due to the 5% change that Red's exploit is missed, Red will always eventually get to the Op_Server."
   ]
  },
  {
   "cell_type": "code",
   "execution_count": 5,
   "metadata": {},
   "outputs": [
    {
     "name": "stdout",
     "output_type": "stream",
     "text": [
      "Monitor\n",
      "Monitor\n",
      "Monitor\n",
      "Remove User2\n",
      "Monitor\n",
      "Monitor\n",
      "Remove Enterprise1\n",
      "Monitor\n",
      "Remove Enterprise1\n",
      "Monitor\n",
      "Remove Enterprise1\n",
      "Monitor\n"
     ]
    }
   ],
   "source": [
    "env = CybORG(path,'sim',agents={'Red':B_lineAgent})\n",
    "\n",
    "agent = BlueReactRemoveAgent()\n",
    "\n",
    "results = env.reset('Blue')\n",
    "obs = results.observation\n",
    "action_space = results.action_space\n",
    "\n",
    "for i in range(12):\n",
    "    action = agent.get_action(obs,action_space)\n",
    "    results = env.step(action=action,agent='Blue')\n",
    "    obs = results.observation\n",
    "    print(env.get_last_action('Blue'))"
   ]
  },
  {
   "cell_type": "markdown",
   "metadata": {},
   "source": [
    "The BlueReactRestoreAgent is the same as the React agent above, but uses the Restore action."
   ]
  },
  {
   "cell_type": "code",
   "execution_count": 6,
   "metadata": {},
   "outputs": [
    {
     "name": "stdout",
     "output_type": "stream",
     "text": [
      "Monitor\n",
      "Monitor\n",
      "Monitor\n",
      "Restore User4\n",
      "Monitor\n",
      "Restore User4\n",
      "Monitor\n",
      "Restore User4\n",
      "Monitor\n",
      "Restore User4\n",
      "Monitor\n",
      "Restore User4\n"
     ]
    }
   ],
   "source": [
    "agent = BlueReactRestoreAgent()\n",
    "\n",
    "results = env.reset('Blue')\n",
    "obs = results.observation\n",
    "action_space = results.action_space\n",
    "\n",
    "for i in range(12):\n",
    "    action = agent.get_action(obs,action_space)\n",
    "    results = env.step(action=action,agent='Blue')\n",
    "    obs = results.observation\n",
    "    print(env.get_last_action('Blue'))"
   ]
  },
  {
   "cell_type": "markdown",
   "metadata": {},
   "source": [
    "### Green Agent"
   ]
  },
  {
   "cell_type": "markdown",
   "metadata": {},
   "source": [
    "An important part of CybORG Scenario1b is the Green agent, which represents the users on the network. The Green Agent is very simple, it only performs a scanning action on random hosts some of the time. This is only visible by Blue Agent."
   ]
  },
  {
   "cell_type": "code",
   "execution_count": 7,
   "metadata": {},
   "outputs": [
    {
     "name": "stdout",
     "output_type": "stream",
     "text": [
      "GreenPortScan\n",
      "Sleep\n",
      "GreenPortScan\n",
      "Sleep\n",
      "Sleep\n",
      "Sleep\n",
      "Sleep\n",
      "GreenPortScan\n",
      "GreenPortScan\n",
      "GreenPortScan\n",
      "Sleep\n",
      "GreenPortScan\n"
     ]
    }
   ],
   "source": [
    "agent = GreenAgent()\n",
    "\n",
    "results = env.reset('Green')\n",
    "obs = results.observation\n",
    "action_space = results.action_space\n",
    "\n",
    "for i in range(12):\n",
    "    print(agent.get_action(obs,action_space))"
   ]
  },
  {
   "cell_type": "markdown",
   "metadata": {},
   "source": [
    "### Keyboard Agent"
   ]
  },
  {
   "cell_type": "markdown",
   "metadata": {},
   "source": [
    "The KeyboardAgent allows a human user to manually choose actions. This is useful for getting an intuition for the scenario."
   ]
  },
  {
   "cell_type": "code",
   "execution_count": 8,
   "metadata": {},
   "outputs": [
    {
     "name": "stdout",
     "output_type": "stream",
     "text": [
      "+----------------+-------------+----------+---------+------------+\n",
      "|     Subnet     |  IP Address | Hostname | Scanned |   Access   |\n",
      "+----------------+-------------+----------+---------+------------+\n",
      "| 10.0.20.112/28 | 10.0.20.126 |  User0   |  False  | Privileged |\n",
      "+----------------+-------------+----------+---------+------------+\n",
      "\n",
      "************************************ Turn 1: Observation *************************************\n",
      "\n",
      "+----------------+-------------+----------+---------+------------+\n",
      "|     Subnet     |  IP Address | Hostname | Scanned |   Access   |\n",
      "+----------------+-------------+----------+---------+------------+\n",
      "| 10.0.20.112/28 | 10.0.20.126 |  User0   |  False  | Privileged |\n",
      "+----------------+-------------+----------+---------+------------+\n",
      "\n",
      "********************************* Turn 1: Command Selection **********************************\n",
      "\n",
      "0 Sleep\n",
      "1 DiscoverRemoteSystems\n",
      "2 DiscoverNetworkServices\n",
      "3 ExploitRemoteService\n",
      "4 BlueKeep\n",
      "5 EternalBlue\n",
      "6 FTPDirectoryTraversal\n",
      "7 HarakaRCE\n",
      "8 HTTPRFI\n",
      "9 HTTPSRFI\n",
      "10 SQLInjection\n",
      "11 PrivilegeEscalate\n",
      "12 Impact\n",
      "13 SSHBruteForce\n",
      "You didn't type in a valid Command...\n",
      "You didn't type in a valid Command...\n",
      "You chose DiscoverNetworkServices.\n",
      "\n",
      "\n",
      "******************************** Turn 1: Parameter Selection *********************************\n",
      "\n",
      "\n",
      "------------------------------------- Session Selection --------------------------------------\n",
      "Automatically choosing 0 as it is the only option.\n",
      "-------------------------------------- Agent Selection ---------------------------------------\n",
      "Automatically choosing Red as it is the only option.\n",
      "------------------------------------ Ip_address Selection ------------------------------------\n",
      "Automatically choosing 10.0.20.126 as it is the only option.\n",
      "+----------------+-------------+----------+---------+------------+\n",
      "|     Subnet     |  IP Address | Hostname | Scanned |   Access   |\n",
      "+----------------+-------------+----------+---------+------------+\n",
      "| 10.0.20.112/28 | 10.0.20.126 |  User0   |   True  | Privileged |\n",
      "+----------------+-------------+----------+---------+------------+\n",
      "\n",
      "************************************ Turn 2: Observation *************************************\n",
      "\n",
      "+----------------+-------------+----------+---------+------------+\n",
      "|     Subnet     |  IP Address | Hostname | Scanned |   Access   |\n",
      "+----------------+-------------+----------+---------+------------+\n",
      "| 10.0.20.112/28 | 10.0.20.126 |  User0   |   True  | Privileged |\n",
      "+----------------+-------------+----------+---------+------------+\n",
      "----------------------------------------------------------------------------------------------\n",
      "Yay! The Action was a Success!\n",
      "**********************************************************************************************\n",
      "\n",
      "********************************* Turn 2: Command Selection **********************************\n",
      "\n",
      "0 Sleep\n",
      "1 DiscoverRemoteSystems\n",
      "2 DiscoverNetworkServices\n",
      "3 ExploitRemoteService\n",
      "4 BlueKeep\n",
      "5 EternalBlue\n",
      "6 FTPDirectoryTraversal\n",
      "7 HarakaRCE\n",
      "8 HTTPRFI\n",
      "9 HTTPSRFI\n",
      "10 SQLInjection\n",
      "11 PrivilegeEscalate\n",
      "12 Impact\n",
      "13 SSHBruteForce\n",
      "You chose DiscoverNetworkServices.\n",
      "\n",
      "\n",
      "******************************** Turn 2: Parameter Selection *********************************\n",
      "\n",
      "\n",
      "------------------------------------- Session Selection --------------------------------------\n",
      "Automatically choosing 0 as it is the only option.\n",
      "-------------------------------------- Agent Selection ---------------------------------------\n",
      "Automatically choosing Red as it is the only option.\n",
      "------------------------------------ Ip_address Selection ------------------------------------\n",
      "Automatically choosing 10.0.20.126 as it is the only option.\n",
      "+----------------+-------------+----------+---------+------------+\n",
      "|     Subnet     |  IP Address | Hostname | Scanned |   Access   |\n",
      "+----------------+-------------+----------+---------+------------+\n",
      "| 10.0.20.112/28 | 10.0.20.126 |  User0   |   True  | Privileged |\n",
      "+----------------+-------------+----------+---------+------------+\n",
      "\n",
      "************************************ Turn 3: Observation *************************************\n",
      "\n",
      "+----------------+-------------+----------+---------+------------+\n",
      "|     Subnet     |  IP Address | Hostname | Scanned |   Access   |\n",
      "+----------------+-------------+----------+---------+------------+\n",
      "| 10.0.20.112/28 | 10.0.20.126 |  User0   |   True  | Privileged |\n",
      "+----------------+-------------+----------+---------+------------+\n",
      "----------------------------------------------------------------------------------------------\n",
      "Yay! The Action was a Success!\n",
      "**********************************************************************************************\n",
      "\n",
      "********************************* Turn 3: Command Selection **********************************\n",
      "\n",
      "0 Sleep\n",
      "1 DiscoverRemoteSystems\n",
      "2 DiscoverNetworkServices\n",
      "3 ExploitRemoteService\n",
      "4 BlueKeep\n",
      "5 EternalBlue\n",
      "6 FTPDirectoryTraversal\n",
      "7 HarakaRCE\n",
      "8 HTTPRFI\n",
      "9 HTTPSRFI\n",
      "10 SQLInjection\n",
      "11 PrivilegeEscalate\n",
      "12 Impact\n",
      "13 SSHBruteForce\n",
      "You chose DiscoverRemoteSystems.\n",
      "\n",
      "\n",
      "******************************** Turn 3: Parameter Selection *********************************\n",
      "\n",
      "\n",
      "------------------------------------- Session Selection --------------------------------------\n",
      "Automatically choosing 0 as it is the only option.\n",
      "-------------------------------------- Agent Selection ---------------------------------------\n",
      "Automatically choosing Red as it is the only option.\n",
      "-------------------------------------- Subnet Selection --------------------------------------\n",
      "Automatically choosing 10.0.20.112/28 as it is the only option.\n"
     ]
    }
   ],
   "source": [
    "from CybORG.Agents.Wrappers import RedTableWrapper\n",
    "\n",
    "cyborg = CybORG(path, 'sim',agents={'Blue':BlueMonitorAgent})\n",
    "env = RedTableWrapper(env=cyborg, output_mode='table')\n",
    "\n",
    "agent = KeyboardAgent()\n",
    "\n",
    "results = env.reset('Red')\n",
    "obs = results.observation\n",
    "action_space = results.action_space\n",
    "\n",
    "for i in range(3):\n",
    "    print(obs)\n",
    "    action = agent.get_action(obs,action_space)\n",
    "    results = env.step(action=action,agent='Red')\n",
    "    obs = results.observation"
   ]
  },
  {
   "cell_type": "code",
   "execution_count": null,
   "metadata": {},
   "outputs": [],
   "source": []
  }
 ],
 "metadata": {
  "kernelspec": {
   "display_name": "Python 3",
   "language": "python",
   "name": "python3"
  },
  "language_info": {
   "codemirror_mode": {
    "name": "ipython",
    "version": 3
   },
   "file_extension": ".py",
   "mimetype": "text/x-python",
   "name": "python",
   "nbconvert_exporter": "python",
   "pygments_lexer": "ipython3",
   "version": "3.9.7"
  }
 },
 "nbformat": 4,
 "nbformat_minor": 4
}
